{
 "cells": [
  {
   "cell_type": "code",
   "execution_count": 1,
   "metadata": {},
   "outputs": [],
   "source": [
    "import numpy as np\n",
    "import cv2\n",
    "import time"
   ]
  },
  {
   "cell_type": "code",
   "execution_count": 2,
   "metadata": {},
   "outputs": [],
   "source": [
    "cap=cv2.VideoCapture(0)\n",
    "time.sleep(3)\n",
    "for i in range(30):\n",
    "    retval,back=cap.read()\n",
    "back=np.flip(back,axis=1)\n",
    "\n",
    "while (cap.isOpened()):\n",
    "    ret,img=cap.read()\n",
    "    if ret:\n",
    "        img=np.flip(img,axis=1)\n",
    "        hsv=cv2.cvtColor(img,cv2.COLOR_BGR2HSV)\n",
    "        lower_red = np.array([0,120,70])\n",
    "        upper_red = np.array([10,255,255])\n",
    "        mask1 = cv2.inRange(hsv,lower_red,upper_red)\n",
    "        lower_red = np.array([170,120,70])\n",
    "        upper_red = np.array([180,255,255])\n",
    "        mask2 = cv2.inRange(hsv,lower_red,upper_red)\n",
    "        mask1+=mask2\n",
    "        mask = cv2.morphologyEx(mask1, cv2.MORPH_OPEN, np.ones((5,5),np.uint8))\n",
    "        img[np.where(mask==255)]=back[np.where(mask==255)]\n",
    "        cv2.imshow(\"Harry Potter's invisible secret revealed\",img)\n",
    "    key = cv2.waitKey(1)\n",
    "    if key==ord(\"q\"):\n",
    "        break\n",
    "cap.release()\n",
    "cv2.destroyAllWindows()"
   ]
  }
 ],
 "metadata": {
  "kernelspec": {
   "display_name": "Python 3",
   "language": "python",
   "name": "python3"
  },
  "language_info": {
   "codemirror_mode": {
    "name": "ipython",
    "version": 3
   },
   "file_extension": ".py",
   "mimetype": "text/x-python",
   "name": "python",
   "nbconvert_exporter": "python",
   "pygments_lexer": "ipython3",
   "version": "3.7.4"
  }
 },
 "nbformat": 4,
 "nbformat_minor": 2
}
